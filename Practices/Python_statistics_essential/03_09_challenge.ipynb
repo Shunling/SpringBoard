{
 "cells": [
  {
   "cell_type": "markdown",
   "metadata": {},
   "source": [
    "## Python statistics essential training - 03_09_challenge"
   ]
  },
  {
   "cell_type": "markdown",
   "metadata": {},
   "source": [
    "Standard imports"
   ]
  },
  {
   "cell_type": "code",
   "execution_count": 1,
   "metadata": {},
   "outputs": [],
   "source": [
    "import numpy as np\n",
    "import scipy.stats\n",
    "import pandas as pd"
   ]
  },
  {
   "cell_type": "code",
   "execution_count": 2,
   "metadata": {},
   "outputs": [],
   "source": [
    "import matplotlib\n",
    "import matplotlib.pyplot as pp\n",
    "\n",
    "import pandas.plotting\n",
    "\n",
    "from IPython import display\n",
    "from ipywidgets import interact, widgets\n",
    "\n",
    "%matplotlib inline"
   ]
  },
  {
   "cell_type": "code",
   "execution_count": 3,
   "metadata": {},
   "outputs": [],
   "source": [
    "import re\n",
    "import mailbox\n",
    "import csv"
   ]
  },
  {
   "cell_type": "markdown",
   "metadata": {},
   "source": [
    "## Load info from mbox (a dictionary)"
   ]
  },
  {
   "cell_type": "code",
   "execution_count": 4,
   "metadata": {},
   "outputs": [],
   "source": [
    "mails = mailbox.mbox('Starred.mbox')"
   ]
  },
  {
   "cell_type": "code",
   "execution_count": 8,
   "metadata": {},
   "outputs": [
    {
     "data": {
      "text/plain": [
       "['X-GM-THRID',\n",
       " 'X-Gmail-Labels',\n",
       " 'Delivered-To',\n",
       " 'Received',\n",
       " 'X-Google-Smtp-Source',\n",
       " 'X-Received',\n",
       " 'ARC-Seal',\n",
       " 'ARC-Message-Signature',\n",
       " 'ARC-Authentication-Results',\n",
       " 'Return-Path',\n",
       " 'Received',\n",
       " 'Received-SPF',\n",
       " 'Authentication-Results',\n",
       " 'DKIM-Signature',\n",
       " 'DKIM-Signature',\n",
       " 'Received',\n",
       " 'X-CSA-Complaints',\n",
       " 'MIME-Version',\n",
       " 'Content-Type',\n",
       " 'Content-Transfer-Encoding',\n",
       " 'Date',\n",
       " 'To',\n",
       " 'From',\n",
       " 'Reply-To',\n",
       " 'Subject',\n",
       " 'Feedback-ID',\n",
       " 'List-Unsubscribe',\n",
       " 'X-sgxh1',\n",
       " 'X-rext',\n",
       " 'X-cid',\n",
       " 'X-rpcampaign',\n",
       " 'Message-ID']"
      ]
     },
     "execution_count": 8,
     "metadata": {},
     "output_type": "execute_result"
    }
   ],
   "source": [
    "mails[1].keys()"
   ]
  },
  {
   "cell_type": "markdown",
   "metadata": {},
   "source": [
    "## Write information to csv"
   ]
  },
  {
   "cell_type": "code",
   "execution_count": 10,
   "metadata": {},
   "outputs": [],
   "source": [
    "with open('StarredMail.csv','w') as outfile:\n",
    "    writer = csv.writer(outfile)\n",
    "    writer.writerow(['Subject','From','To','Date'])\n",
    "    \n",
    "    for m in mails:\n",
    "        writer.writerow([m['Subject'],m['From'],m['To'],m['Date']])\n",
    "        "
   ]
  },
  {
   "cell_type": "markdown",
   "metadata": {},
   "source": [
    "## Read information to data frame"
   ]
  },
  {
   "cell_type": "code",
   "execution_count": 28,
   "metadata": {},
   "outputs": [],
   "source": [
    "df = pd.read_csv('StarredMail.csv')"
   ]
  },
  {
   "cell_type": "code",
   "execution_count": 29,
   "metadata": {},
   "outputs": [
    {
     "data": {
      "text/html": [
       "<div>\n",
       "<style scoped>\n",
       "    .dataframe tbody tr th:only-of-type {\n",
       "        vertical-align: middle;\n",
       "    }\n",
       "\n",
       "    .dataframe tbody tr th {\n",
       "        vertical-align: top;\n",
       "    }\n",
       "\n",
       "    .dataframe thead th {\n",
       "        text-align: right;\n",
       "    }\n",
       "</style>\n",
       "<table border=\"1\" class=\"dataframe\">\n",
       "  <thead>\n",
       "    <tr style=\"text-align: right;\">\n",
       "      <th></th>\n",
       "      <th>Subject</th>\n",
       "      <th>From</th>\n",
       "      <th>To</th>\n",
       "      <th>Date</th>\n",
       "    </tr>\n",
       "  </thead>\n",
       "  <tbody>\n",
       "    <tr>\n",
       "      <th>0</th>\n",
       "      <td>application</td>\n",
       "      <td>Amelia Haiqiong Li &lt;lhqkey@gmail.com&gt;</td>\n",
       "      <td>Shunling GUO &lt;shunling.guo@gmail.com&gt;</td>\n",
       "      <td>Tue, 11 Jun 2019 11:14:40 -0700</td>\n",
       "    </tr>\n",
       "    <tr>\n",
       "      <th>1</th>\n",
       "      <td>Pop-In@Nordstrom Holidays featuring MoMA Desig...</td>\n",
       "      <td>\"NORDSTROM\" &lt;nordstrom@em.NORDSTROM.com&gt;</td>\n",
       "      <td>shunling.guo@gmail.com</td>\n",
       "      <td>Fri, 17 Nov 2017 16:01:47 -0800</td>\n",
       "    </tr>\n",
       "    <tr>\n",
       "      <th>2</th>\n",
       "      <td>Get Your Skin New Year Ready!</td>\n",
       "      <td>\"Kiehl's Since 1851\" &lt;kiehls@mail.kiehls-usa.com&gt;</td>\n",
       "      <td>&lt;shunling.guo@gmail.com&gt;</td>\n",
       "      <td>Fri, 22 Dec 2017 10:12:39 -0600</td>\n",
       "    </tr>\n",
       "    <tr>\n",
       "      <th>3</th>\n",
       "      <td>Welcome to your new Google Cloud account for a...</td>\n",
       "      <td>gsuite-noreply@google.com</td>\n",
       "      <td>shunling.guo@gmail.com</td>\n",
       "      <td>Fri, 19 Jan 2018 03:58:41 +0000</td>\n",
       "    </tr>\n",
       "    <tr>\n",
       "      <th>4</th>\n",
       "      <td>30+ new Scientist jobs in Redwood City, CA</td>\n",
       "      <td>Indeed &lt;alert@indeed.com&gt;</td>\n",
       "      <td>shunling.guo@gmail.com</td>\n",
       "      <td>Thu, 21 Dec 2017 22:23:18 -0600 (CST)</td>\n",
       "    </tr>\n",
       "  </tbody>\n",
       "</table>\n",
       "</div>"
      ],
      "text/plain": [
       "                                             Subject  \\\n",
       "0                                        application   \n",
       "1  Pop-In@Nordstrom Holidays featuring MoMA Desig...   \n",
       "2                      Get Your Skin New Year Ready!   \n",
       "3  Welcome to your new Google Cloud account for a...   \n",
       "4         30+ new Scientist jobs in Redwood City, CA   \n",
       "\n",
       "                                                From  \\\n",
       "0              Amelia Haiqiong Li <lhqkey@gmail.com>   \n",
       "1           \"NORDSTROM\" <nordstrom@em.NORDSTROM.com>   \n",
       "2  \"Kiehl's Since 1851\" <kiehls@mail.kiehls-usa.com>   \n",
       "3                          gsuite-noreply@google.com   \n",
       "4                          Indeed <alert@indeed.com>   \n",
       "\n",
       "                                      To  \\\n",
       "0  Shunling GUO <shunling.guo@gmail.com>   \n",
       "1                 shunling.guo@gmail.com   \n",
       "2               <shunling.guo@gmail.com>   \n",
       "3                 shunling.guo@gmail.com   \n",
       "4                 shunling.guo@gmail.com   \n",
       "\n",
       "                                    Date  \n",
       "0        Tue, 11 Jun 2019 11:14:40 -0700  \n",
       "1        Fri, 17 Nov 2017 16:01:47 -0800  \n",
       "2        Fri, 22 Dec 2017 10:12:39 -0600  \n",
       "3        Fri, 19 Jan 2018 03:58:41 +0000  \n",
       "4  Thu, 21 Dec 2017 22:23:18 -0600 (CST)  "
      ]
     },
     "execution_count": 29,
     "metadata": {},
     "output_type": "execute_result"
    }
   ],
   "source": [
    "df.head()"
   ]
  },
  {
   "cell_type": "code",
   "execution_count": 30,
   "metadata": {},
   "outputs": [],
   "source": [
    "def clean_mail(raw):\n",
    "    match = re.search('<(.+)>',raw)\n",
    "    if match:\n",
    "        return match.group(1)\n",
    "    else:\n",
    "        return raw"
   ]
  },
  {
   "cell_type": "code",
   "execution_count": 35,
   "metadata": {},
   "outputs": [],
   "source": [
    "From = df.From.apply(clean_mail)"
   ]
  },
  {
   "cell_type": "code",
   "execution_count": 36,
   "metadata": {},
   "outputs": [],
   "source": [
    "To = df.To.apply(clean_mail)"
   ]
  },
  {
   "cell_type": "code",
   "execution_count": 43,
   "metadata": {},
   "outputs": [],
   "source": [
    "cleanDF = pd.concat([From,To],axis=1)"
   ]
  },
  {
   "cell_type": "code",
   "execution_count": 45,
   "metadata": {},
   "outputs": [
    {
     "data": {
      "text/html": [
       "<div>\n",
       "<style scoped>\n",
       "    .dataframe tbody tr th:only-of-type {\n",
       "        vertical-align: middle;\n",
       "    }\n",
       "\n",
       "    .dataframe tbody tr th {\n",
       "        vertical-align: top;\n",
       "    }\n",
       "\n",
       "    .dataframe thead th {\n",
       "        text-align: right;\n",
       "    }\n",
       "</style>\n",
       "<table border=\"1\" class=\"dataframe\">\n",
       "  <thead>\n",
       "    <tr style=\"text-align: right;\">\n",
       "      <th></th>\n",
       "      <th>From</th>\n",
       "      <th>To</th>\n",
       "    </tr>\n",
       "  </thead>\n",
       "  <tbody>\n",
       "    <tr>\n",
       "      <th>0</th>\n",
       "      <td>lhqkey@gmail.com</td>\n",
       "      <td>shunling.guo@gmail.com</td>\n",
       "    </tr>\n",
       "    <tr>\n",
       "      <th>1</th>\n",
       "      <td>nordstrom@em.NORDSTROM.com</td>\n",
       "      <td>shunling.guo@gmail.com</td>\n",
       "    </tr>\n",
       "    <tr>\n",
       "      <th>2</th>\n",
       "      <td>kiehls@mail.kiehls-usa.com</td>\n",
       "      <td>shunling.guo@gmail.com</td>\n",
       "    </tr>\n",
       "    <tr>\n",
       "      <th>3</th>\n",
       "      <td>gsuite-noreply@google.com</td>\n",
       "      <td>shunling.guo@gmail.com</td>\n",
       "    </tr>\n",
       "    <tr>\n",
       "      <th>4</th>\n",
       "      <td>alert@indeed.com</td>\n",
       "      <td>shunling.guo@gmail.com</td>\n",
       "    </tr>\n",
       "  </tbody>\n",
       "</table>\n",
       "</div>"
      ],
      "text/plain": [
       "                         From                      To\n",
       "0            lhqkey@gmail.com  shunling.guo@gmail.com\n",
       "1  nordstrom@em.NORDSTROM.com  shunling.guo@gmail.com\n",
       "2  kiehls@mail.kiehls-usa.com  shunling.guo@gmail.com\n",
       "3   gsuite-noreply@google.com  shunling.guo@gmail.com\n",
       "4            alert@indeed.com  shunling.guo@gmail.com"
      ]
     },
     "execution_count": 45,
     "metadata": {},
     "output_type": "execute_result"
    }
   ],
   "source": [
    "cleanDF.head()"
   ]
  },
  {
   "cell_type": "code",
   "execution_count": 148,
   "metadata": {},
   "outputs": [],
   "source": [
    "Date = df.Date.apply(lambda s: pd.to_datetime(s[0:31]))"
   ]
  },
  {
   "cell_type": "code",
   "execution_count": 151,
   "metadata": {},
   "outputs": [],
   "source": [
    "def converttz(date):\n",
    "    try:\n",
    "        return date.tz_convert('UTC')\n",
    "    except:\n",
    "        print(date)\n",
    "        return date.tz_localize('America/Los_Angeles').tz_convert('UTC')"
   ]
  },
  {
   "cell_type": "code",
   "execution_count": 152,
   "metadata": {},
   "outputs": [
    {
     "name": "stdout",
     "output_type": "stream",
     "text": [
      "2014-06-12 19:16:12\n"
     ]
    }
   ],
   "source": [
    "Date = Date.apply(converttz)"
   ]
  },
  {
   "cell_type": "code",
   "execution_count": 153,
   "metadata": {},
   "outputs": [
    {
     "data": {
      "text/plain": [
       "0   2019-06-11 18:14:40+00:00\n",
       "1   2017-11-18 00:01:47+00:00\n",
       "2   2017-12-22 16:12:39+00:00\n",
       "3   2018-01-19 03:58:41+00:00\n",
       "4   2017-12-22 04:23:18+00:00\n",
       "Name: Date, dtype: datetime64[ns, UTC]"
      ]
     },
     "execution_count": 153,
     "metadata": {},
     "output_type": "execute_result"
    }
   ],
   "source": [
    "Date.head()"
   ]
  },
  {
   "cell_type": "code",
   "execution_count": 171,
   "metadata": {},
   "outputs": [
    {
     "data": {
      "text/plain": [
       "(Timestamp('2012-01-11 01:18:03+0000', tz='UTC'),\n",
       " Timestamp('2019-07-29 15:12:56+0000', tz='UTC'),\n",
       " 373)"
      ]
     },
     "execution_count": 171,
     "metadata": {},
     "output_type": "execute_result"
    }
   ],
   "source": [
    "Date.min(),Date.max(),Date.count()"
   ]
  },
  {
   "cell_type": "code",
   "execution_count": 167,
   "metadata": {},
   "outputs": [
    {
     "data": {
      "text/html": [
       "<div>\n",
       "<style scoped>\n",
       "    .dataframe tbody tr th:only-of-type {\n",
       "        vertical-align: middle;\n",
       "    }\n",
       "\n",
       "    .dataframe tbody tr th {\n",
       "        vertical-align: top;\n",
       "    }\n",
       "\n",
       "    .dataframe thead th {\n",
       "        text-align: right;\n",
       "    }\n",
       "</style>\n",
       "<table border=\"1\" class=\"dataframe\">\n",
       "  <thead>\n",
       "    <tr style=\"text-align: right;\">\n",
       "      <th></th>\n",
       "      <th>From</th>\n",
       "      <th>To</th>\n",
       "      <th>Date</th>\n",
       "    </tr>\n",
       "  </thead>\n",
       "  <tbody>\n",
       "    <tr>\n",
       "      <th>0</th>\n",
       "      <td>lhqkey@gmail.com</td>\n",
       "      <td>shunling.guo@gmail.com</td>\n",
       "      <td>2019-06-11 18:14:40+00:00</td>\n",
       "    </tr>\n",
       "    <tr>\n",
       "      <th>1</th>\n",
       "      <td>nordstrom@em.NORDSTROM.com</td>\n",
       "      <td>shunling.guo@gmail.com</td>\n",
       "      <td>2017-11-18 00:01:47+00:00</td>\n",
       "    </tr>\n",
       "    <tr>\n",
       "      <th>2</th>\n",
       "      <td>kiehls@mail.kiehls-usa.com</td>\n",
       "      <td>shunling.guo@gmail.com</td>\n",
       "      <td>2017-12-22 16:12:39+00:00</td>\n",
       "    </tr>\n",
       "    <tr>\n",
       "      <th>3</th>\n",
       "      <td>gsuite-noreply@google.com</td>\n",
       "      <td>shunling.guo@gmail.com</td>\n",
       "      <td>2018-01-19 03:58:41+00:00</td>\n",
       "    </tr>\n",
       "    <tr>\n",
       "      <th>4</th>\n",
       "      <td>alert@indeed.com</td>\n",
       "      <td>shunling.guo@gmail.com</td>\n",
       "      <td>2017-12-22 04:23:18+00:00</td>\n",
       "    </tr>\n",
       "  </tbody>\n",
       "</table>\n",
       "</div>"
      ],
      "text/plain": [
       "                         From                      To  \\\n",
       "0            lhqkey@gmail.com  shunling.guo@gmail.com   \n",
       "1  nordstrom@em.NORDSTROM.com  shunling.guo@gmail.com   \n",
       "2  kiehls@mail.kiehls-usa.com  shunling.guo@gmail.com   \n",
       "3   gsuite-noreply@google.com  shunling.guo@gmail.com   \n",
       "4            alert@indeed.com  shunling.guo@gmail.com   \n",
       "\n",
       "                       Date  \n",
       "0 2019-06-11 18:14:40+00:00  \n",
       "1 2017-11-18 00:01:47+00:00  \n",
       "2 2017-12-22 16:12:39+00:00  \n",
       "3 2018-01-19 03:58:41+00:00  \n",
       "4 2017-12-22 04:23:18+00:00  "
      ]
     },
     "execution_count": 167,
     "metadata": {},
     "output_type": "execute_result"
    }
   ],
   "source": [
    "cleanDF = pd.concat([cleanDF,Date],axis=1)\n",
    "cleanDF.head()"
   ]
  },
  {
   "cell_type": "code",
   "execution_count": 168,
   "metadata": {},
   "outputs": [],
   "source": [
    "cleanDF['dayofweek'] = pd.Categorical(Date.dt.weekday_name,\n",
    "                                       ordered = True,\n",
    "                                       categories = [\"Monday\",\"Tuesday\",\"Wednesday\",\"Thursday\",\"Friday\",\"Saturday\",\"Sunday\"])"
   ]
  },
  {
   "cell_type": "code",
   "execution_count": 174,
   "metadata": {},
   "outputs": [
    {
     "data": {
      "text/plain": [
       "<matplotlib.axes._subplots.AxesSubplot at 0x1a2177cf28>"
      ]
     },
     "execution_count": 174,
     "metadata": {},
     "output_type": "execute_result"
    },
    {
     "data": {
      "image/png": "[encoded data removed]",
      "text/plain": [
       "<Figure size 432x288 with 1 Axes>"
      ]
     },
     "metadata": {
      "needs_background": "light"
     },
     "output_type": "display_data"
    }
   ],
   "source": [
    "cleanDF.dayofweek.value_counts().plot(kind='bar')"
   ]
  },
  {
   "cell_type": "markdown",
   "metadata": {},
   "source": [
    "## Challenge: distribution by hour separately for each day and then overlay the plot for each day"
   ]
  },
  {
   "cell_type": "markdown",
   "metadata": {},
   "source": [
    "msg.group(0)"
   ]
  },
  {
   "cell_type": "code",
   "execution_count": null,
   "metadata": {},
   "outputs": [],
   "source": []
  }
 ],
 "metadata": {
  "kernelspec": {
   "display_name": "Python 3",
   "language": "python",
   "name": "python3"
  },
  "language_info": {
   "codemirror_mode": {
    "name": "ipython",
    "version": 3
   },
   "file_extension": ".py",
   "mimetype": "text/x-python",
   "name": "python",
   "nbconvert_exporter": "python",
   "pygments_lexer": "ipython3",
   "version": "3.7.3"
  },
  "toc": {
   "base_numbering": 1,
   "nav_menu": {},
   "number_sections": true,
   "sideBar": true,
   "skip_h1_title": false,
   "title_cell": "Table of Contents",
   "title_sidebar": "Contents",
   "toc_cell": false,
   "toc_position": {},
   "toc_section_display": true,
   "toc_window_display": false
  }
 },
 "nbformat": 4,
 "nbformat_minor": 2
}
