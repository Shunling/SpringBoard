{
 "cells": [
  {
   "cell_type": "markdown",
   "metadata": {},
   "source": [
    "# Inferential Statistics Ib - Frequentism"
   ]
  },
  {
   "cell_type": "markdown",
   "metadata": {},
   "source": [
    "## Learning objectives"
   ]
  },
  {
   "cell_type": "markdown",
   "metadata": {},
   "source": [
    "Welcome to the second Frequentist inference mini-project! Over the course of working on this mini-project and the previous frequentist mini-project, you'll learn the fundamental concepts associated with frequentist inference. The following list includes the topics you will become familiar with as you work through these two mini-projects:\n",
    "* the _z_-statistic\n",
    "* the _t_-statistic\n",
    "* the difference and relationship between the two\n",
    "* the Central Limit Theorem, its assumptions and consequences\n",
    "* how to estimate the population mean and standard deviation from a sample\n",
    "* the concept of a sampling distribution of a test statistic, particularly for the mean\n",
    "* how to combine these concepts to calculate confidence intervals and p-values\n",
    "* how those confidence intervals and p-values allow you to perform hypothesis (or A/B) tests"
   ]
  },
  {
   "cell_type": "markdown",
   "metadata": {},
   "source": [
    "## Prerequisites"
   ]
  },
  {
   "cell_type": "markdown",
   "metadata": {},
   "source": [
    "* what a random variable is\n",
    "* what a probability density function (pdf) is\n",
    "* what the cumulative density function is\n",
    "* a high-level sense of what the Normal distribution\n",
    "\n",
    "If these concepts are new to you, please take a few moments to Google these topics in order to get a sense of what they are and how you might use them.\n",
    "\n",
    "These two notebooks were designed to bridge the gap between having a basic understanding of probability and random variables and being able to apply these concepts in Python. This second frequentist inference mini-project focuses on a real-world application of this type of inference to give you further practice using these concepts. "
   ]
  },
  {
   "cell_type": "markdown",
   "metadata": {},
   "source": [
    "In the previous notebook, we used only data from a known normal distribution. You'll now tackle real data, rather than simulated data, and answer some relevant real-world business problems using the data."
   ]
  },
  {
   "cell_type": "markdown",
   "metadata": {},
   "source": [
    "## Hospital medical charges"
   ]
  },
  {
   "cell_type": "markdown",
   "metadata": {},
   "source": [
    "Imagine that a hospital has hired you as their data analyst. An administrator is working on the hospital's business operations plan and needs you to help them answer some business questions. This mini-project, as well as the bootstrap and Bayesian inference mini-projects also found in this unit are designed to illustrate how each of the inferential statistics methods have their uses for different use cases. In this assignment notebook, you're going to use frequentist statistical inference on a data sample to answer the questions:\n",
    "* has the hospital's revenue stream fallen below a key threshold?\n",
    "* are patients with insurance really charged different amounts than those without?\n",
    "Answering that last question with a frequentist approach makes some assumptions, or requires some knowledge, about the two groups. In the next mini-project, you'll use bootstrapping to test that assumption. And in the final mini-project of the unit, you're going to create a model for simulating _individual_ charges (not a sampling distribution) that the hospital can use to model a range of scenarios."
   ]
  },
  {
   "cell_type": "markdown",
   "metadata": {},
   "source": [
    "We are going to use some data on medical charges obtained from [Kaggle](https://www.kaggle.com/easonlai/sample-insurance-claim-prediction-dataset). For the purposes of this exercise, assume the observations are the result of random sampling from our one hospital. Recall in the previous assignment, we introduced the Central Limit Theorem (CLT), and how it tells us that the distributions of sample statistics approach a normal distribution as $n$ increases. The amazing thing about this is that it applies to the sampling distributions of statistics that have been calculated from even highly non-normal distributions of data. Remember, also, that hypothesis testing is very much based on making inferences about such sample statistics. You're going to rely heavily on the CLT to apply frequentist (parametric) tests to answer the questions in this notebook."
   ]
  },
  {
   "cell_type": "code",
   "execution_count": 174,
   "metadata": {},
   "outputs": [],
   "source": [
    "import pandas as pd\n",
    "import numpy as np\n",
    "import matplotlib.pyplot as plt\n",
    "import scipy.stats as st\n",
    "from numpy.random import seed\n",
    "medical = pd.read_csv('data/insurance2.csv')"
   ]
  },
  {
   "cell_type": "code",
   "execution_count": 175,
   "metadata": {},
   "outputs": [
    {
     "data": {
      "text/plain": [
       "(1338, 8)"
      ]
     },
     "execution_count": 175,
     "metadata": {},
     "output_type": "execute_result"
    }
   ],
   "source": [
    "medical.shape"
   ]
  },
  {
   "cell_type": "code",
   "execution_count": 176,
   "metadata": {},
   "outputs": [
    {
     "data": {
      "text/html": [
       "<div>\n",
       "<style scoped>\n",
       "    .dataframe tbody tr th:only-of-type {\n",
       "        vertical-align: middle;\n",
       "    }\n",
       "\n",
       "    .dataframe tbody tr th {\n",
       "        vertical-align: top;\n",
       "    }\n",
       "\n",
       "    .dataframe thead th {\n",
       "        text-align: right;\n",
       "    }\n",
       "</style>\n",
       "<table border=\"1\" class=\"dataframe\">\n",
       "  <thead>\n",
       "    <tr style=\"text-align: right;\">\n",
       "      <th></th>\n",
       "      <th>age</th>\n",
       "      <th>sex</th>\n",
       "      <th>bmi</th>\n",
       "      <th>children</th>\n",
       "      <th>smoker</th>\n",
       "      <th>region</th>\n",
       "      <th>charges</th>\n",
       "      <th>insuranceclaim</th>\n",
       "    </tr>\n",
       "  </thead>\n",
       "  <tbody>\n",
       "    <tr>\n",
       "      <th>0</th>\n",
       "      <td>19</td>\n",
       "      <td>0</td>\n",
       "      <td>27.900</td>\n",
       "      <td>0</td>\n",
       "      <td>1</td>\n",
       "      <td>3</td>\n",
       "      <td>16884.92400</td>\n",
       "      <td>1</td>\n",
       "    </tr>\n",
       "    <tr>\n",
       "      <th>1</th>\n",
       "      <td>18</td>\n",
       "      <td>1</td>\n",
       "      <td>33.770</td>\n",
       "      <td>1</td>\n",
       "      <td>0</td>\n",
       "      <td>2</td>\n",
       "      <td>1725.55230</td>\n",
       "      <td>1</td>\n",
       "    </tr>\n",
       "    <tr>\n",
       "      <th>2</th>\n",
       "      <td>28</td>\n",
       "      <td>1</td>\n",
       "      <td>33.000</td>\n",
       "      <td>3</td>\n",
       "      <td>0</td>\n",
       "      <td>2</td>\n",
       "      <td>4449.46200</td>\n",
       "      <td>0</td>\n",
       "    </tr>\n",
       "    <tr>\n",
       "      <th>3</th>\n",
       "      <td>33</td>\n",
       "      <td>1</td>\n",
       "      <td>22.705</td>\n",
       "      <td>0</td>\n",
       "      <td>0</td>\n",
       "      <td>1</td>\n",
       "      <td>21984.47061</td>\n",
       "      <td>0</td>\n",
       "    </tr>\n",
       "    <tr>\n",
       "      <th>4</th>\n",
       "      <td>32</td>\n",
       "      <td>1</td>\n",
       "      <td>28.880</td>\n",
       "      <td>0</td>\n",
       "      <td>0</td>\n",
       "      <td>1</td>\n",
       "      <td>3866.85520</td>\n",
       "      <td>1</td>\n",
       "    </tr>\n",
       "  </tbody>\n",
       "</table>\n",
       "</div>"
      ],
      "text/plain": [
       "   age  sex     bmi  children  smoker  region      charges  insuranceclaim\n",
       "0   19    0  27.900         0       1       3  16884.92400               1\n",
       "1   18    1  33.770         1       0       2   1725.55230               1\n",
       "2   28    1  33.000         3       0       2   4449.46200               0\n",
       "3   33    1  22.705         0       0       1  21984.47061               0\n",
       "4   32    1  28.880         0       0       1   3866.85520               1"
      ]
     },
     "execution_count": 176,
     "metadata": {},
     "output_type": "execute_result"
    }
   ],
   "source": [
    "medical.head()"
   ]
  },
  {
   "cell_type": "markdown",
   "metadata": {},
   "source": [
    "__Q:__ Plot the histogram of charges and calculate the mean and standard deviation. Comment on the appropriateness of these statistics for the data."
   ]
  },
  {
   "cell_type": "markdown",
   "metadata": {},
   "source": [
    "__A:__"
   ]
  },
  {
   "cell_type": "code",
   "execution_count": 177,
   "metadata": {},
   "outputs": [
    {
     "data": {
      "text/plain": [
       "Text(0.5, 0, 'charges')"
      ]
     },
     "execution_count": 177,
     "metadata": {},
     "output_type": "execute_result"
    },
    {
     "data": {
      "image/png": "[encoded data removed]",
      "text/plain": [
       "<Figure size 432x288 with 1 Axes>"
      ]
     },
     "metadata": {
      "needs_background": "light"
     },
     "output_type": "display_data"
    }
   ],
   "source": [
    "medical.charges.hist(bins=10,grid=False)\n",
    "plt.xlabel('charges')"
   ]
  },
  {
   "cell_type": "code",
   "execution_count": 178,
   "metadata": {},
   "outputs": [
    {
     "data": {
      "text/plain": [
       "(13270.422265141257, 12110.011236693994)"
      ]
     },
     "execution_count": 178,
     "metadata": {},
     "output_type": "execute_result"
    }
   ],
   "source": [
    "medical.charges.mean(),medical.charges.std(ddof=1)"
   ]
  },
  {
   "cell_type": "markdown",
   "metadata": {},
   "source": [
    "__Q:__ The administrator is concerned that the actual average charge has fallen below 12000, threatening the hospital's operational model. On the assumption that these data represent a random sample of charges, how would you justify that these data allow you to answer that question? And what would be the most appropriate frequentist test, of the ones discussed so far, to apply?"
   ]
  },
  {
   "cell_type": "markdown",
   "metadata": {},
   "source": [
    "__A:__ "
   ]
  },
  {
   "cell_type": "code",
   "execution_count": 179,
   "metadata": {},
   "outputs": [
    {
     "name": "stdout",
     "output_type": "stream",
     "text": [
      "13270.0 13317.0 12110.0 12034.0\n"
     ]
    },
    {
     "data": {
      "text/plain": [
       "<matplotlib.lines.Line2D at 0x1a25eff978>"
      ]
     },
     "execution_count": 179,
     "metadata": {},
     "output_type": "execute_result"
    },
    {
     "data": {
      "image/png": "[encoded data removed]",
      "text/plain": [
       "<Figure size 432x288 with 1 Axes>"
      ]
     },
     "metadata": {
      "needs_background": "light"
     },
     "output_type": "display_data"
    }
   ],
   "source": [
    "from scipy.stats import norm\n",
    "from scipy.stats import t\n",
    "import numpy as np\n",
    "import pandas as pd\n",
    "from numpy.random import seed\n",
    "import matplotlib.pyplot as plt\n",
    "\n",
    "#create normal distribution\n",
    "seed(47)\n",
    "mean = round(medical.charges.mean(),0)\n",
    "sd = round(medical.charges.std(ddof=1),0) # assuming population sd is same with sample\n",
    "db = norm.rvs(mean,sd,size = 50000) # normal distribution simulation\n",
    "norm_db = [] # sampling simulation distribution\n",
    "for i in range(50000):\n",
    "    norm_db.append(np.random.choice(db,medical.shape[0]).mean())\n",
    "mean_s = round(np.mean(norm_db),0) # mean of sampling distribution, should be colse to population mean\n",
    "sd_s = round(np.std(norm_db),0) # sd of sampling distribution\n",
    "sd_p = round(sd_s*np.sqrt(medical.shape[0]),0) # population sd calculated from sampling sd\n",
    "print(mean, mean_s,sd, sd_p)\n",
    "plt.hist(norm_db,bins=20)\n",
    "plt.axvline(mean_s, color='r', linestyle='-')\n",
    "plt.axvline(mean_s-sd_s, color='r', linestyle='--')\n",
    "plt.axvline(mean_s+sd_s, color='r', linestyle='--')\n",
    "plt.axvline(mean_s-2*sd_s, color='r', linestyle=':')\n",
    "plt.axvline(mean_s+2*sd_s, color='r', linestyle=':')"
   ]
  },
  {
   "cell_type": "markdown",
   "metadata": {},
   "source": [
    "__Q:__ Given the nature of the administrator's concern, what is the appropriate confidence interval in this case? A one-sided or two-sided interval? Calculate the critical value and the relevant 95% confidence interval for the mean and comment on whether the administrator should be concerned?"
   ]
  },
  {
   "cell_type": "markdown",
   "metadata": {},
   "source": [
    "__A:__ one-side interval only, since the sample mean is larger than the hypothesized population mean."
   ]
  },
  {
   "cell_type": "code",
   "execution_count": 180,
   "metadata": {},
   "outputs": [
    {
     "data": {
      "text/plain": [
       "12725.443002289827"
      ]
     },
     "execution_count": 180,
     "metadata": {},
     "output_type": "execute_result"
    }
   ],
   "source": [
    "# we assume population is eaqual to sample: loc=mean, scale=sd/sqrt(medical.shape[0])\n",
    "c05 = norm.ppf(0.05,loc=mean,scale=sd/np.sqrt(medical.shape[0])) # 95% lower confidence interval \n",
    "c05"
   ]
  },
  {
   "cell_type": "code",
   "execution_count": 181,
   "metadata": {},
   "outputs": [
    {
     "data": {
      "text/plain": [
       "12775.843156732966"
      ]
     },
     "execution_count": 181,
     "metadata": {},
     "output_type": "execute_result"
    }
   ],
   "source": [
    "# if we assume the population mean is equal to simulation mean_s and sd = sd_s\n",
    "c05 = norm.ppf(0.05,loc=mean_s,scale=sd_s) # 95% lower confidence interval \n",
    "c05"
   ]
  },
  {
   "cell_type": "code",
   "execution_count": 182,
   "metadata": {},
   "outputs": [
    {
     "data": {
      "text/plain": [
       "-1.646"
      ]
     },
     "execution_count": 182,
     "metadata": {},
     "output_type": "execute_result"
    }
   ],
   "source": [
    "t = round(st.t.ppf(.05, df=medical.shape[0]-1),3) # t value from lower \n",
    "\n",
    "t"
   ]
  },
  {
   "cell_type": "code",
   "execution_count": 183,
   "metadata": {},
   "outputs": [
    {
     "data": {
      "text/plain": [
       "-545.0"
      ]
     },
     "execution_count": 183,
     "metadata": {},
     "output_type": "execute_result"
    }
   ],
   "source": [
    "# if population mean is equal to sample mean\n",
    "Margin_error = round((sd/np.sqrt(medical.shape[0]))*t,0)\n",
    "Margin_error"
   ]
  },
  {
   "cell_type": "code",
   "execution_count": 184,
   "metadata": {},
   "outputs": [
    {
     "data": {
      "text/plain": [
       "12725.0"
      ]
     },
     "execution_count": 184,
     "metadata": {},
     "output_type": "execute_result"
    }
   ],
   "source": [
    "# if population mean is equal to sample mean\n",
    "# 95% lower confidence interval\n",
    "mean + Margin_error"
   ]
  },
  {
   "cell_type": "code",
   "execution_count": 185,
   "metadata": {},
   "outputs": [
    {
     "data": {
      "text/plain": [
       "12775.0"
      ]
     },
     "execution_count": 185,
     "metadata": {},
     "output_type": "execute_result"
    }
   ],
   "source": [
    "# if population mean is equal to simulation mean\n",
    "# 95% lower confidence interval\n",
    "Margin_error = round((sd_s)*t,0)\n",
    "mean_s + Margin_error"
   ]
  },
  {
   "cell_type": "code",
   "execution_count": 186,
   "metadata": {},
   "outputs": [
    {
     "data": {
      "text/plain": [
       "3.126692648035768e-05"
      ]
     },
     "execution_count": 186,
     "metadata": {},
     "output_type": "execute_result"
    }
   ],
   "source": [
    "# The probability for a random sample with size 1338 from a population mean below 12000 population is lower than:\n",
    "norm.cdf(12000,loc=mean_s,scale=sd_s)-norm.cdf(0,loc=mean_s,scale=sd_s)"
   ]
  },
  {
   "cell_type": "code",
   "execution_count": 187,
   "metadata": {},
   "outputs": [
    {
     "data": {
      "text/plain": [
       "6.250689775158247e-05"
      ]
     },
     "execution_count": 187,
     "metadata": {},
     "output_type": "execute_result"
    }
   ],
   "source": [
    "norm.cdf(12000,loc=mean,scale=sd/np.sqrt(medical.shape[0]))-norm.cdf(0,loc=mean,scale=sd/np.sqrt(medical.shape[0]))"
   ]
  },
  {
   "cell_type": "code",
   "execution_count": null,
   "metadata": {},
   "outputs": [],
   "source": []
  },
  {
   "cell_type": "markdown",
   "metadata": {},
   "source": [
    "The administrator then wants to know whether people with insurance really are charged a different amount to those without.\n",
    "\n",
    "__Q:__ State the null and alternative hypothesis here. Use the _t_-test for the difference between means where the pooled standard deviation of the two groups is given by\n",
    "\\begin{equation}\n",
    "s_p = \\sqrt{\\frac{(n_0 - 1)s^2_0 + (n_1 - 1)s^2_1}{n_0 + n_1 - 2}}\n",
    "\\end{equation}\n",
    "\n",
    "and the *t* test statistic is then given by\n",
    "\n",
    "\\begin{equation}\n",
    "t = \\frac{\\bar{x}_0 - \\bar{x}_1}{s_p \\sqrt{1/n_0 + 1/n_1}}.\n",
    "\\end{equation}\n",
    "\n",
    "What assumption about the variances of the two groups are we making here?"
   ]
  },
  {
   "cell_type": "markdown",
   "metadata": {},
   "source": [
    "__A:__ the null hypothesis states the two groups are two samples from the same population. The assumption is population variance is the same with sample varainces."
   ]
  },
  {
   "cell_type": "markdown",
   "metadata": {},
   "source": [
    "__Q:__ Perform this hypothesis test both manually, using the above formulae, and then using the appropriate function from [scipy.stats](https://docs.scipy.org/doc/scipy/reference/stats.html#statistical-tests) (hint, you're looking for a function to perform a _t_-test on two independent samples). For the manual approach, calculate the value of the test statistic and then its probability (the p-value). Verify you get the same results from both."
   ]
  },
  {
   "cell_type": "markdown",
   "metadata": {},
   "source": [
    "__A:__ "
   ]
  },
  {
   "cell_type": "code",
   "execution_count": 188,
   "metadata": {},
   "outputs": [
    {
     "data": {
      "text/plain": [
       "(555, 783)"
      ]
     },
     "execution_count": 188,
     "metadata": {},
     "output_type": "execute_result"
    }
   ],
   "source": [
    "withoutIn = medical.loc[medical.insuranceclaim == 0].charges\n",
    "withIn = medical.loc[medical.insuranceclaim > 0].charges\n",
    "n0 = withoutIn.shape[0]\n",
    "n1 = withIn.shape[0]\n",
    "(n0,n1)"
   ]
  },
  {
   "cell_type": "code",
   "execution_count": 189,
   "metadata": {},
   "outputs": [],
   "source": [
    "s0 = withoutIn.std(ddof=1)\n",
    "s1 = withIn.std(ddof=1)\n",
    "x0 = withoutIn.mean()\n",
    "x1 = withIn.mean()"
   ]
  },
  {
   "cell_type": "code",
   "execution_count": 190,
   "metadata": {},
   "outputs": [],
   "source": [
    "a = (n0-1)*s0*s0 + (n1-1)*s1*s1\n",
    "b = n0+n1-2\n",
    "sp = np.sqrt(a/b)"
   ]
  },
  {
   "cell_type": "code",
   "execution_count": 191,
   "metadata": {},
   "outputs": [
    {
     "data": {
      "text/plain": [
       "-11.89329903087671"
      ]
     },
     "execution_count": 191,
     "metadata": {},
     "output_type": "execute_result"
    }
   ],
   "source": [
    "c = sp*np.sqrt(1/n0 + 1/n1)\n",
    "t = (x0-x1)/c\n",
    "t"
   ]
  },
  {
   "cell_type": "code",
   "execution_count": 192,
   "metadata": {},
   "outputs": [
    {
     "data": {
      "text/plain": [
       "4.45016623302336e-31"
      ]
     },
     "execution_count": 192,
     "metadata": {},
     "output_type": "execute_result"
    }
   ],
   "source": [
    "# p value\n",
    "pval = st.t.sf(np.abs(t), medical.shape[0]-1)*2\n",
    "pval"
   ]
  },
  {
   "cell_type": "code",
   "execution_count": 193,
   "metadata": {},
   "outputs": [
    {
     "data": {
      "text/plain": [
       "Ttest_indResult(statistic=-11.893299030876712, pvalue=4.461230231620717e-31)"
      ]
     },
     "execution_count": 193,
     "metadata": {},
     "output_type": "execute_result"
    }
   ],
   "source": [
    "st.ttest_ind(withoutIn,withIn, equal_var = True)"
   ]
  },
  {
   "cell_type": "markdown",
   "metadata": {},
   "source": [
    "Congratulations! Hopefully you got the exact same numerical results. This shows that you correctly calculated the numbers by hand. Secondly, you used the correct function and saw that it's much easier to use. All you need to do pass your data to it."
   ]
  },
  {
   "cell_type": "markdown",
   "metadata": {},
   "source": [
    "__Q:__ In the above calculations, we assumed the sample variances were equal. We may well suspect they are not (we'll explore this in another assignment). The calculation becomes a little more complicated to do by hand in this case, but we now know of a helpful function. Check the documentation for the function to tell it not to assume equal variances and perform the test again."
   ]
  },
  {
   "cell_type": "markdown",
   "metadata": {},
   "source": [
    "__A:__"
   ]
  },
  {
   "cell_type": "code",
   "execution_count": 194,
   "metadata": {},
   "outputs": [
    {
     "data": {
      "text/plain": [
       "Ttest_indResult(statistic=-13.298031957975649, pvalue=1.1105103216309125e-37)"
      ]
     },
     "execution_count": 194,
     "metadata": {},
     "output_type": "execute_result"
    }
   ],
   "source": [
    "st.ttest_ind(withoutIn,withIn, equal_var = False)"
   ]
  },
  {
   "cell_type": "markdown",
   "metadata": {},
   "source": [
    "__Q:__ Conceptual question: look through the documentation for statistical test functions in scipy.stats. You'll see the above _t_-test for a sample, but can you see an equivalent one for performing a *z*-test from a sample? Comment on your answer."
   ]
  },
  {
   "cell_type": "markdown",
   "metadata": {},
   "source": [
    "__A:__"
   ]
  },
  {
   "cell_type": "code",
   "execution_count": 195,
   "metadata": {},
   "outputs": [
    {
     "data": {
      "text/plain": [
       "\"\\n==========================================\\nStatistical functions (:mod:`scipy.stats`)\\n==========================================\\n\\n.. currentmodule:: scipy.stats\\n\\nThis module contains a large number of probability distributions as\\nwell as a growing library of statistical functions.\\n\\nEach univariate distribution is an instance of a subclass of `rv_continuous`\\n(`rv_discrete` for discrete distributions):\\n\\n.. autosummary::\\n   :toctree: generated/\\n\\n   rv_continuous\\n   rv_discrete\\n   rv_histogram\\n\\nContinuous distributions\\n========================\\n\\n.. autosummary::\\n   :toctree: generated/\\n\\n   alpha             -- Alpha\\n   anglit            -- Anglit\\n   arcsine           -- Arcsine\\n   argus             -- Argus\\n   beta              -- Beta\\n   betaprime         -- Beta Prime\\n   bradford          -- Bradford\\n   burr              -- Burr (Type III)\\n   burr12            -- Burr (Type XII)\\n   cauchy            -- Cauchy\\n   chi               -- Chi\\n   chi2              -- Chi-squared\\n   cosine            -- Cosine\\n   crystalball       -- Crystalball\\n   dgamma            -- Double Gamma\\n   dweibull          -- Double Weibull\\n   erlang            -- Erlang\\n   expon             -- Exponential\\n   exponnorm         -- Exponentially Modified Normal\\n   exponweib         -- Exponentiated Weibull\\n   exponpow          -- Exponential Power\\n   f                 -- F (Snecdor F)\\n   fatiguelife       -- Fatigue Life (Birnbaum-Saunders)\\n   fisk              -- Fisk\\n   foldcauchy        -- Folded Cauchy\\n   foldnorm          -- Folded Normal\\n   frechet_r         -- Deprecated. Alias for weibull_min\\n   frechet_l         -- Deprecated. Alias for weibull_max\\n   genlogistic       -- Generalized Logistic\\n   gennorm           -- Generalized normal\\n   genpareto         -- Generalized Pareto\\n   genexpon          -- Generalized Exponential\\n   genextreme        -- Generalized Extreme Value\\n   gausshyper        -- Gauss Hypergeometric\\n   gamma             -- Gamma\\n   gengamma          -- Generalized gamma\\n   genhalflogistic   -- Generalized Half Logistic\\n   gilbrat           -- Gilbrat\\n   gompertz          -- Gompertz (Truncated Gumbel)\\n   gumbel_r          -- Right Sided Gumbel, Log-Weibull, Fisher-Tippett, Extreme Value Type I\\n   gumbel_l          -- Left Sided Gumbel, etc.\\n   halfcauchy        -- Half Cauchy\\n   halflogistic      -- Half Logistic\\n   halfnorm          -- Half Normal\\n   halfgennorm       -- Generalized Half Normal\\n   hypsecant         -- Hyperbolic Secant\\n   invgamma          -- Inverse Gamma\\n   invgauss          -- Inverse Gaussian\\n   invweibull        -- Inverse Weibull\\n   johnsonsb         -- Johnson SB\\n   johnsonsu         -- Johnson SU\\n   kappa4            -- Kappa 4 parameter\\n   kappa3            -- Kappa 3 parameter\\n   ksone             -- Kolmogorov-Smirnov one-sided (no stats)\\n   kstwobign         -- Kolmogorov-Smirnov two-sided test for Large N (no stats)\\n   laplace           -- Laplace\\n   levy              -- Levy\\n   levy_l\\n   levy_stable\\n   logistic          -- Logistic\\n   loggamma          -- Log-Gamma\\n   loglaplace        -- Log-Laplace (Log Double Exponential)\\n   lognorm           -- Log-Normal\\n   lomax             -- Lomax (Pareto of the second kind)\\n   maxwell           -- Maxwell\\n   mielke            -- Mielke's Beta-Kappa\\n   moyal             -- Moyal\\n   nakagami          -- Nakagami\\n   ncx2              -- Non-central chi-squared\\n   ncf               -- Non-central F\\n   nct               -- Non-central Student's T\\n   norm              -- Normal (Gaussian)\\n   norminvgauss      -- Normal Inverse Gaussian\\n   pareto            -- Pareto\\n   pearson3          -- Pearson type III\\n   powerlaw          -- Power-function\\n   powerlognorm      -- Power log normal\\n   powernorm         -- Power normal\\n   rdist             -- R-distribution\\n   reciprocal        -- Reciprocal\\n   rayleigh          -- Rayleigh\\n   rice              -- Rice\\n   recipinvgauss     -- Reciprocal Inverse Gaussian\\n   semicircular      -- Semicircular\\n   skewnorm          -- Skew normal\\n   t                 -- Student's T\\n   trapz              -- Trapezoidal\\n   triang            -- Triangular\\n   truncexpon        -- Truncated Exponential\\n   truncnorm         -- Truncated Normal\\n   tukeylambda       -- Tukey-Lambda\\n   uniform           -- Uniform\\n   vonmises          -- Von-Mises (Circular)\\n   vonmises_line     -- Von-Mises (Line)\\n   wald              -- Wald\\n   weibull_min       -- Minimum Weibull (see Frechet)\\n   weibull_max       -- Maximum Weibull (see Frechet)\\n   wrapcauchy        -- Wrapped Cauchy\\n\\nMultivariate distributions\\n==========================\\n\\n.. autosummary::\\n   :toctree: generated/\\n\\n   multivariate_normal   -- Multivariate normal distribution\\n   matrix_normal         -- Matrix normal distribution\\n   dirichlet             -- Dirichlet\\n   wishart               -- Wishart\\n   invwishart            -- Inverse Wishart\\n   multinomial           -- Multinomial distribution\\n   special_ortho_group   -- SO(N) group\\n   ortho_group           -- O(N) group\\n   unitary_group         -- U(N) group\\n   random_correlation    -- random correlation matrices\\n\\nDiscrete distributions\\n======================\\n\\n.. autosummary::\\n   :toctree: generated/\\n\\n   bernoulli         -- Bernoulli\\n   binom             -- Binomial\\n   boltzmann         -- Boltzmann (Truncated Discrete Exponential)\\n   dlaplace          -- Discrete Laplacian\\n   geom              -- Geometric\\n   hypergeom         -- Hypergeometric\\n   logser            -- Logarithmic (Log-Series, Series)\\n   nbinom            -- Negative Binomial\\n   planck            -- Planck (Discrete Exponential)\\n   poisson           -- Poisson\\n   randint           -- Discrete Uniform\\n   skellam           -- Skellam\\n   zipf              -- Zipf\\n   yulesimon         -- Yule-Simon\\n\\nAn overview of statistical functions is given below.\\nSeveral of these functions have a similar version in\\n`scipy.stats.mstats` which work for masked arrays.\\n\\nSummary statistics\\n==================\\n\\n.. autosummary::\\n   :toctree: generated/\\n\\n   describe          -- Descriptive statistics\\n   gmean             -- Geometric mean\\n   hmean             -- Harmonic mean\\n   kurtosis          -- Fisher or Pearson kurtosis\\n   mode              -- Modal value\\n   moment            -- Central moment\\n   skew              -- Skewness\\n   kstat             --\\n   kstatvar          --\\n   tmean             -- Truncated arithmetic mean\\n   tvar              -- Truncated variance\\n   tmin              --\\n   tmax              --\\n   tstd              --\\n   tsem              --\\n   variation         -- Coefficient of variation\\n   find_repeats\\n   trim_mean\\n   gstd              -- Geometric Standard Deviation\\n   iqr\\n   sem\\n   bayes_mvs\\n   mvsdist\\n   entropy\\n   median_absolute_deviation\\n\\nFrequency statistics\\n====================\\n\\n.. autosummary::\\n   :toctree: generated/\\n\\n   cumfreq\\n   itemfreq\\n   percentileofscore\\n   scoreatpercentile\\n   relfreq\\n\\n.. autosummary::\\n   :toctree: generated/\\n\\n   binned_statistic     -- Compute a binned statistic for a set of data.\\n   binned_statistic_2d  -- Compute a 2-D binned statistic for a set of data.\\n   binned_statistic_dd  -- Compute a d-D binned statistic for a set of data.\\n\\nCorrelation functions\\n=====================\\n\\n.. autosummary::\\n   :toctree: generated/\\n\\n   f_oneway\\n   pearsonr\\n   spearmanr\\n   pointbiserialr\\n   kendalltau\\n   weightedtau\\n   linregress\\n   siegelslopes\\n   theilslopes\\n\\nStatistical tests\\n=================\\n\\n.. autosummary::\\n   :toctree: generated/\\n\\n   ttest_1samp\\n   ttest_ind\\n   ttest_ind_from_stats\\n   ttest_rel\\n   kstest\\n   chisquare\\n   power_divergence\\n   ks_2samp\\n   epps_singleton_2samp\\n   mannwhitneyu\\n   tiecorrect\\n   rankdata\\n   ranksums\\n   wilcoxon\\n   kruskal\\n   friedmanchisquare\\n   brunnermunzel\\n   combine_pvalues\\n   jarque_bera\\n\\n.. autosummary::\\n   :toctree: generated/\\n\\n   ansari\\n   bartlett\\n   levene\\n   shapiro\\n   anderson\\n   anderson_ksamp\\n   binom_test\\n   fligner\\n   median_test\\n   mood\\n   skewtest\\n   kurtosistest\\n   normaltest\\n\\nTransformations\\n===============\\n\\n.. autosummary::\\n   :toctree: generated/\\n\\n   boxcox\\n   boxcox_normmax\\n   boxcox_llf\\n   yeojohnson\\n   yeojohnson_normmax\\n   yeojohnson_llf\\n   obrientransform\\n   sigmaclip\\n   trimboth\\n   trim1\\n   zmap\\n   zscore\\n\\nStatistical distances\\n=====================\\n\\n.. autosummary::\\n   :toctree: generated/\\n\\n   wasserstein_distance\\n   energy_distance\\n\\nRandom variate generation\\n=========================\\n\\n.. autosummary::\\n   :toctree: generated/\\n\\n   rvs_ratio_uniforms\\n\\nCircular statistical functions\\n==============================\\n\\n.. autosummary::\\n   :toctree: generated/\\n\\n   circmean\\n   circvar\\n   circstd\\n\\nContingency table functions\\n===========================\\n\\n.. autosummary::\\n   :toctree: generated/\\n\\n   chi2_contingency\\n   contingency.expected_freq\\n   contingency.margins\\n   fisher_exact\\n\\nPlot-tests\\n==========\\n\\n.. autosummary::\\n   :toctree: generated/\\n\\n   ppcc_max\\n   ppcc_plot\\n   probplot\\n   boxcox_normplot\\n   yeojohnson_normplot\\n\\n\\nMasked statistics functions\\n===========================\\n\\n.. toctree::\\n\\n   stats.mstats\\n\\n\\nUnivariate and multivariate kernel density estimation\\n=====================================================\\n\\n.. autosummary::\\n   :toctree: generated/\\n\\n   gaussian_kde\\n\\nWarnings used in :mod:`scipy.stats`\\n===================================\\n\\n.. autosummary::\\n   :toctree: generated/\\n\\n   PearsonRConstantInputWarning\\n   PearsonRNearConstantInputWarning\\n\\nFor many more stat related functions install the software R and the\\ninterface package rpy.\\n\\n\""
      ]
     },
     "execution_count": 195,
     "metadata": {},
     "output_type": "execute_result"
    }
   ],
   "source": [
    "st.__doc__"
   ]
  },
  {
   "cell_type": "code",
   "execution_count": null,
   "metadata": {},
   "outputs": [],
   "source": []
  },
  {
   "cell_type": "markdown",
   "metadata": {},
   "source": [
    "## Learning outcomes"
   ]
  },
  {
   "cell_type": "markdown",
   "metadata": {},
   "source": [
    "Having completed this project notebook, you now have good hands-on experience:\n",
    "* using the central limit theorem to help you apply frequentist techniques to answer questions that pertain to very non-normally distributed data from the real world\n",
    "* performing inference using such data to answer business questions\n",
    "* forming a hypothesis and framing the null and alternative hypotheses\n",
    "* testing this using a _t_-test"
   ]
  }
 ],
 "metadata": {
  "kernelspec": {
   "display_name": "Python 3",
   "language": "python",
   "name": "python3"
  },
  "language_info": {
   "codemirror_mode": {
    "name": "ipython",
    "version": 3
   },
   "file_extension": ".py",
   "mimetype": "text/x-python",
   "name": "python",
   "nbconvert_exporter": "python",
   "pygments_lexer": "ipython3",
   "version": "3.7.3"
  }
 },
 "nbformat": 4,
 "nbformat_minor": 2
}
