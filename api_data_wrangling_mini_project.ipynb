{
 "cells": [
  {
   "cell_type": "markdown",
   "metadata": {},
   "source": [
    "This exercise will require you to pull some data from the Qunadl API. Qaundl is currently the most widely used aggregator of financial market data."
   ]
  },
  {
   "cell_type": "markdown",
   "metadata": {},
   "source": [
    "As a first step, you will need to register a free account on the http://www.quandl.com website."
   ]
  },
  {
   "cell_type": "markdown",
   "metadata": {},
   "source": [
    "After you register, you will be provided with a unique API key, that you should store:"
   ]
  },
  {
   "cell_type": "code",
   "execution_count": 5,
   "metadata": {},
   "outputs": [],
   "source": [
    "# Store the API key as a string - according to PEP8, constants are always named in all upper case\n",
    "API_KEY = 'MyKey'"
   ]
  },
  {
   "cell_type": "markdown",
   "metadata": {},
   "source": [
    "Qaundl has a large number of data sources, but, unfortunately, most of them require a Premium subscription. Still, there are also a good number of free datasets."
   ]
  },
  {
   "cell_type": "markdown",
   "metadata": {},
   "source": [
    "For this mini project, we will focus on equities data from the Frankfurt Stock Exhange (FSE), which is available for free. We'll try and analyze the stock prices of a company called Carl Zeiss Meditec, which manufactures tools for eye examinations, as well as medical lasers for laser eye surgery: https://www.zeiss.com/meditec/int/home.html. The company is listed under the stock ticker AFX_X."
   ]
  },
  {
   "cell_type": "markdown",
   "metadata": {},
   "source": [
    "You can find the detailed Quandl API instructions here: https://docs.quandl.com/docs/time-series"
   ]
  },
  {
   "cell_type": "markdown",
   "metadata": {},
   "source": [
    "While there is a dedicated Python package for connecting to the Quandl API, we would prefer that you use the *requests* package, which can be easily downloaded using *pip* or *conda*. You can find the documentation for the package here: http://docs.python-requests.org/en/master/ "
   ]
  },
  {
   "cell_type": "markdown",
   "metadata": {},
   "source": [
    "Finally, apart from the *requests* package, you are encouraged to not use any third party Python packages, such as *pandas*, and instead focus on what's available in the Python Standard Library (the *collections* module might come in handy: https://pymotw.com/3/collections/ ).\n",
    "Also, since you won't have access to DataFrames, you are encouraged to us Python's native data structures - preferably dictionaries, though some questions can also be answered using lists.\n",
    "You can read more on these data structures here: https://docs.python.org/3/tutorial/datastructures.html"
   ]
  },
  {
   "cell_type": "markdown",
   "metadata": {},
   "source": [
    "Keep in mind that the JSON responses you will be getting from the API map almost one-to-one to Python's dictionaries. Unfortunately, they can be very nested, so make sure you read up on indexing dictionaries in the documentation provided above."
   ]
  },
  {
   "cell_type": "code",
   "execution_count": 2,
   "metadata": {},
   "outputs": [],
   "source": [
    "# First, import the relevant modules\n",
    "import requests\n",
    "import json\n",
    "import quandl"
   ]
  },
  {
   "cell_type": "code",
   "execution_count": 13,
   "metadata": {},
   "outputs": [
    {
     "data": {
      "text/plain": [
       "{'Open': {Timestamp('2001-01-01 00:00:00'): None},\n",
       " 'High': {Timestamp('2001-01-01 00:00:00'): None},\n",
       " 'Low': {Timestamp('2001-01-01 00:00:00'): None},\n",
       " 'Close': {Timestamp('2001-01-01 00:00:00'): 21.5},\n",
       " 'Change': {Timestamp('2001-01-01 00:00:00'): None},\n",
       " 'Traded Volume': {Timestamp('2001-01-01 00:00:00'): 0.0},\n",
       " 'Turnover': {Timestamp('2001-01-01 00:00:00'): None},\n",
       " 'Last Price of the Day': {Timestamp('2001-01-01 00:00:00'): None},\n",
       " 'Daily Traded Units': {Timestamp('2001-01-01 00:00:00'): None},\n",
       " 'Daily Turnover': {Timestamp('2001-01-01 00:00:00'): 0.0}}"
      ]
     },
     "execution_count": 13,
     "metadata": {},
     "output_type": "execute_result"
    }
   ],
   "source": [
    "# Now, call the Quandl API and pull out a small sample of the data (only one day) to get a glimpse\n",
    "# into the JSON structure that will be returned\n",
    "quandl.ApiConfig.api_key = API_KEY\n",
    "#Using quandl to request data\n",
    "data = quandl.get('FSE/AFX_X',start_date='2001-01-01',end_date='2001-01-01')\n",
    "data_dict = data.to_dict()\n",
    "data_dict"
   ]
  },
  {
   "cell_type": "code",
   "execution_count": 30,
   "metadata": {},
   "outputs": [],
   "source": [
    "#Using request to load data\n",
    "url = 'https://www.quandl.com/api/v3/datasets/FSE/AFX_X.json'\n",
    "r = requests.get(url)\n",
    "new_data = r.json()\n"
   ]
  },
  {
   "cell_type": "markdown",
   "metadata": {
    "collapsed": true
   },
   "source": [
    "## Inspect the JSON structure of the object you created, and take note of how nested it is,\n",
    "## as well as the overall structure\n",
    "\n",
    "The data set has one key as 'dataset', and values is a dictionary,with the following keys:\n",
    "    'id','dataset_code','database_code','name','description','refreshed_at','newest_available_date',\n",
    "    'oldest_available_date','column_names','frequency',\n",
    "  'type': 'Time Series',\n",
    "  'premium': False,\n",
    "  'limit': None,\n",
    "  'transform': None,\n",
    "  'column_index': None,\n",
    "  'start_date': '2000-06-07',\n",
    "  'end_date': '2019-08-02',\n",
    "  'data':2d array"
   ]
  },
  {
   "cell_type": "markdown",
   "metadata": {},
   "source": [
    "These are your tasks for this mini project:\n",
    "\n",
    "1. Collect data from the Franfurt Stock Exchange, for the ticker AFX_X, for the whole year 2017 (keep in mind that the date format is YYYY-MM-DD).\n",
    "2. Convert the returned JSON object into a Python dictionary.\n",
    "3. Calculate what the highest and lowest opening prices were for the stock in this period.\n",
    "4. What was the largest change in any one day (based on High and Low price)?\n",
    "5. What was the largest change between any two days (based on Closing Price)?\n",
    "6. What was the average daily trading volume during this year?\n",
    "7. (Optional) What was the median trading volume during this year. (Note: you may need to implement your own function for calculating the median.)"
   ]
  },
  {
   "cell_type": "code",
   "execution_count": 131,
   "metadata": {},
   "outputs": [],
   "source": [
    "# 1. Collect data from the Franfurt Stock Exchange, for the ticker AFX_X, \n",
    "#for the whole year 2017 (keep in mind that the date format is YYYY-MM-DD).\n",
    "\n",
    "columns = new_data['dataset']['column_names']\n",
    "entry = new_data['dataset']['data']\n",
    "for i in range(0,len(entry)):\n",
    "    if entry[i][0] == '2017-01-02':\n",
    "        year_begin = i + 1\n",
    "   \n",
    "    if entry[i][0] == '2017-12-29':\n",
    "        year_end = i\n",
    "\n",
    "data2017 = new_data['dataset']['data'][year_end:year_begin]\n"
   ]
  },
  {
   "cell_type": "code",
   "execution_count": 132,
   "metadata": {},
   "outputs": [
    {
     "data": {
      "text/plain": [
       "['Date',\n",
       " 'Open',\n",
       " 'High',\n",
       " 'Low',\n",
       " 'Close',\n",
       " 'Change',\n",
       " 'Traded Volume',\n",
       " 'Turnover',\n",
       " 'Last Price of the Day',\n",
       " 'Daily Traded Units',\n",
       " 'Daily Turnover']"
      ]
     },
     "execution_count": 132,
     "metadata": {},
     "output_type": "execute_result"
    }
   ],
   "source": [
    "# 2. Convert the returned JSON object into a Python dictionary.\n",
    "\n",
    "dict_2017 = {}\n",
    "for col in range(0,len(columns)):\n",
    "    dict_2017[columns[col]] = [i[col] for i in data2017]\n",
    "columns"
   ]
  },
  {
   "cell_type": "code",
   "execution_count": 96,
   "metadata": {},
   "outputs": [
    {
     "data": {
      "text/plain": [
       "(53.11, 34.0)"
      ]
     },
     "execution_count": 96,
     "metadata": {},
     "output_type": "execute_result"
    }
   ],
   "source": [
    "# 3. Calculate what the highest and lowest opening prices were for the stock in this period.\n",
    "max_price = dict_2017['Open'][0]\n",
    "min_price = dict_2017['Open'][0]\n",
    "for price in dict_2017['Open']:\n",
    "    if price and price > max_price:\n",
    "        max_price = price\n",
    "    if price and price < min_price:\n",
    "        min_price = price\n",
    "max_price, min_price"
   ]
  },
  {
   "cell_type": "code",
   "execution_count": 100,
   "metadata": {},
   "outputs": [
    {
     "data": {
      "text/plain": [
       "0.9499999999999957"
      ]
     },
     "execution_count": 100,
     "metadata": {},
     "output_type": "execute_result"
    }
   ],
   "source": [
    "# 4. What was the largest change in any one day (based on High and Low price)?\n",
    "max_change = dict_2017['High'][0] - dict_2017['Low'][0]\n",
    "for (high,low) in zip(dict_2017['High'],dict_2017['Low']):\n",
    "    if high and low:\n",
    "        change = high - low\n",
    "    if change and price > max_change:\n",
    "        max_change = change\n",
    "max_change"
   ]
  },
  {
   "cell_type": "code",
   "execution_count": 102,
   "metadata": {},
   "outputs": [
    {
     "data": {
      "text/plain": [
       "53.09"
      ]
     },
     "execution_count": 102,
     "metadata": {},
     "output_type": "execute_result"
    }
   ],
   "source": [
    "# 5. What was the largest change between any two days (based on Closing Price)?\n",
    "max_two_day_change = dict_2017['Close'][0]\n",
    "for change in dict_2017['Close']:\n",
    "    if change and change > max_two_day_change:\n",
    "        max_two_day_change = change\n",
    "max_two_day_change"
   ]
  },
  {
   "cell_type": "code",
   "execution_count": 108,
   "metadata": {},
   "outputs": [
    {
     "data": {
      "text/plain": [
       "89124.33725490196"
      ]
     },
     "execution_count": 108,
     "metadata": {},
     "output_type": "execute_result"
    }
   ],
   "source": [
    "# 6. What was the average daily trading volume during this year?\n",
    "\n",
    "average = sum(dict_2017['Traded Volume'])/len(dict_2017['Traded Volume'])\n",
    "average"
   ]
  },
  {
   "cell_type": "code",
   "execution_count": 128,
   "metadata": {},
   "outputs": [
    {
     "data": {
      "text/plain": [
       "76286.0"
      ]
     },
     "execution_count": 128,
     "metadata": {},
     "output_type": "execute_result"
    }
   ],
   "source": [
    "# 7. What was the median trading volume during this year. \n",
    "# (Note: you may need to implement your own function for calculating the median.)\n",
    "def medium(array):\n",
    "    length = len(array)\n",
    "    if length % 2 == 0:\n",
    "        return (array[int(length/2)-1] + array[int(length/2)])/2\n",
    "    else:\n",
    "        return array[int(length/2)]\n",
    "    \n",
    "array = sorted(dict_2017['Traded Volume'])\n",
    "\n",
    "medium(array)"
   ]
  },
  {
   "cell_type": "code",
   "execution_count": null,
   "metadata": {},
   "outputs": [],
   "source": []
  },
  {
   "cell_type": "code",
   "execution_count": null,
   "metadata": {},
   "outputs": [],
   "source": []
  },
  {
   "cell_type": "code",
   "execution_count": null,
   "metadata": {},
   "outputs": [],
   "source": []
  },
  {
   "cell_type": "code",
   "execution_count": null,
   "metadata": {},
   "outputs": [],
   "source": []
  },
  {
   "cell_type": "code",
   "execution_count": null,
   "metadata": {},
   "outputs": [],
   "source": []
  },
  {
   "cell_type": "code",
   "execution_count": null,
   "metadata": {},
   "outputs": [],
   "source": []
  },
  {
   "cell_type": "code",
   "execution_count": null,
   "metadata": {},
   "outputs": [],
   "source": []
  }
 ],
 "metadata": {
  "kernelspec": {
   "display_name": "Python 3",
   "language": "python",
   "name": "python3"
  },
  "language_info": {
   "codemirror_mode": {
    "name": "ipython",
    "version": 3
   },
   "file_extension": ".py",
   "mimetype": "text/x-python",
   "name": "python",
   "nbconvert_exporter": "python",
   "pygments_lexer": "ipython3",
   "version": "3.7.3"
  }
 },
 "nbformat": 4,
 "nbformat_minor": 2
}
